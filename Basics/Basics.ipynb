{
 "cells": [
  {
   "cell_type": "markdown",
   "id": "09d96cc5",
   "metadata": {},
   "source": [
    "### Basics"
   ]
  },
  {
   "cell_type": "markdown",
   "id": "5224d2c4",
   "metadata": {},
   "source": [
    "### 1. Write a Python program that accepts an integer (n) and computes the value of n+nn+nnn. Go to the editor\n",
    "## Sample value of n is 5 \n",
    "## Expected Result : 615\n",
    "\n",
    "#### a = int(input(\"Input an integer : \"))\n",
    "#### n1 = int( \"%s\" % a )\n",
    "#### n2 = int( \"%s%s\" % (a,a) )\n",
    "#### n3 = int( \"%s%s%s\" % (a,a,a) )\n",
    "#### print (n1+n2+n3)"
   ]
  },
  {
   "cell_type": "code",
   "execution_count": 5,
   "id": "380e9d42",
   "metadata": {},
   "outputs": [],
   "source": [
    "def trip_sum(a):\n",
    "    return 3*a+a*10+a*100\n"
   ]
  },
  {
   "cell_type": "code",
   "execution_count": 6,
   "id": "a8068589",
   "metadata": {},
   "outputs": [
    {
     "data": {
      "text/plain": [
       "452"
      ]
     },
     "execution_count": 6,
     "metadata": {},
     "output_type": "execute_result"
    }
   ],
   "source": [
    "trip_sum(4)"
   ]
  },
  {
   "cell_type": "markdown",
   "id": "498f37a3",
   "metadata": {},
   "source": [
    "### 2. Create a program that asks the user to enter their name and their age.\n",
    "### Print out a message addressed to them that tells them the year that they will turn 100 years old."
   ]
  },
  {
   "cell_type": "code",
   "execution_count": 9,
   "id": "3367b8a9",
   "metadata": {},
   "outputs": [],
   "source": [
    "def my100y(name,age):\n",
    "    print(f\"Dear {name}, Your current age is {age} and you will turn 100 Years old at {2024+(100-age)} Year\")"
   ]
  },
  {
   "cell_type": "code",
   "execution_count": 11,
   "id": "9c45f255",
   "metadata": {},
   "outputs": [
    {
     "name": "stdout",
     "output_type": "stream",
     "text": [
      "Dear Rajendra, Your current age is 25 and you will turn 100 Years old at 2099 Year\n"
     ]
    }
   ],
   "source": [
    "my100y(\"Rajendra\",25)"
   ]
  },
  {
   "cell_type": "code",
   "execution_count": null,
   "id": "ba325fa7",
   "metadata": {},
   "outputs": [],
   "source": []
  }
 ],
 "metadata": {
  "kernelspec": {
   "display_name": "Python 3 (ipykernel)",
   "language": "python",
   "name": "python3"
  },
  "language_info": {
   "codemirror_mode": {
    "name": "ipython",
    "version": 3
   },
   "file_extension": ".py",
   "mimetype": "text/x-python",
   "name": "python",
   "nbconvert_exporter": "python",
   "pygments_lexer": "ipython3",
   "version": "3.10.9"
  }
 },
 "nbformat": 4,
 "nbformat_minor": 5
}
