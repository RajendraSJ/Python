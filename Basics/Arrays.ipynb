{
 "cells": [
  {
   "cell_type": "markdown",
   "id": "f1f68171",
   "metadata": {},
   "source": [
    "# 1. Given a string, find the length of the longest substring\n",
    "# without repeating characters.\n",
    "\n",
    "\n",
    "\n",
    "## Examples:\n",
    "\n",
    "##### Given \"abcabcbb\", the answer is \"abc\", which the length is 3.\n",
    "##### Given \"bbbbb\", the answer is \"b\", with the length of 1.\n",
    "##### Given \"pwwkew\", the answer is \"wke\", with the length of 3.\n"
   ]
  },
  {
   "cell_type": "code",
   "execution_count": 55,
   "id": "1eb400bd",
   "metadata": {},
   "outputs": [],
   "source": [
    "## Solution 1\n",
    "\n",
    "def mot(b):\n",
    "    a=[]\n",
    "    for i in range(len(b)-1):\n",
    "        while b[i] not in a:\n",
    "            a+=b[i]\n",
    "            i=i+1\n",
    "        else:\n",
    "            break\n",
    "    return a , len(a)"
   ]
  },
  {
   "cell_type": "code",
   "execution_count": 56,
   "id": "6b97bb01",
   "metadata": {},
   "outputs": [
    {
     "data": {
      "text/plain": [
       "(['k', 'j', 'h'], 3)"
      ]
     },
     "execution_count": 56,
     "metadata": {},
     "output_type": "execute_result"
    }
   ],
   "source": [
    "mot('kjhj')"
   ]
  },
  {
   "cell_type": "code",
   "execution_count": 57,
   "id": "a5514bed",
   "metadata": {},
   "outputs": [
    {
     "data": {
      "text/plain": [
       "(['k', 'j'], 2)"
      ]
     },
     "execution_count": 57,
     "metadata": {},
     "output_type": "execute_result"
    }
   ],
   "source": [
    "mot('kjjhj')"
   ]
  },
  {
   "cell_type": "code",
   "execution_count": 54,
   "id": "1fab120a",
   "metadata": {},
   "outputs": [],
   "source": [
    "## Solution 2\n",
    "\n",
    "str = \"abcbb\"\n",
    "s = \"abcbb\"\n",
    "\n",
    "def longest_non_repeat(s):\n",
    "    # Dictionary to store the last index of each character\n",
    "    char_index = {}\n",
    "    \n",
    "    # Start of the current window\n",
    "    start = 0\n",
    "    # Max length of substring without repeating characters\n",
    "    max_length = 0\n",
    "    # Current index to manually track the position\n",
    "    i = 0\n",
    "    \n",
    "    # Iterate over the string\n",
    "    for c in s:\n",
    "        # If the character is in the dictionary and its last position is within the current window\n",
    "        if c in char_index and char_index[c] >= start:\n",
    "            # Move the start of the window to the right of the last occurrence of the current character\n",
    "            start = char_index[c] + 1\n",
    "        \n",
    "        # Update the last position of the character to the current index\n",
    "        char_index[c] = i\n",
    "        \n",
    "        # Calculate the length of the current window\n",
    "        max_length = max(max_length, i - start + 1)\n",
    "        \n",
    "        # Increment index manually\n",
    "        i += 1\n",
    "    print(f\"Max Length of Unique Characters : \",max_length)\n",
    "    print(\"List of Unique Characters is :\",list(char_index.keys()))\n",
    "\n",
    "    "
   ]
  },
  {
   "cell_type": "code",
   "execution_count": 51,
   "id": "43e9a990",
   "metadata": {},
   "outputs": [
    {
     "name": "stdout",
     "output_type": "stream",
     "text": [
      "Max Length of Unique Characters :  3\n",
      "List of Unique Characters is : ['a', 'b', 'c']\n"
     ]
    }
   ],
   "source": [
    "longest_non_repeat(str)"
   ]
  },
  {
   "cell_type": "code",
   "execution_count": 59,
   "id": "e7daf4f4",
   "metadata": {},
   "outputs": [
    {
     "name": "stdout",
     "output_type": "stream",
     "text": [
      "Max Length: 7\n",
      "Longest Substring: cbfghij\n"
     ]
    }
   ],
   "source": [
    "## Solution 3\n",
    "\n",
    "\n",
    "\n",
    "def longest_non_repeat(s):\n",
    "    # Dictionary to store the last index of each character\n",
    "    char_index = {}\n",
    "    \n",
    "    # Start of the current window\n",
    "    start = 0\n",
    "    # Max length of substring without repeating characters\n",
    "    max_length = 0\n",
    "    # To store the longest non-repeating substring\n",
    "    longest_substr = \"\"\n",
    "    \n",
    "    # Iterate over the string with a manual index tracker\n",
    "    for i, c in enumerate(s):\n",
    "        # If the character is in the dictionary and within the current window\n",
    "        if c in char_index and char_index[c] >= start:\n",
    "            # Move the start of the window to the right of the last occurrence of the character\n",
    "            start = char_index[c] + 1\n",
    "        \n",
    "        # Update the last seen index of the character\n",
    "        char_index[c] = i\n",
    "        \n",
    "        # Calculate the current length of the non-repeating substring\n",
    "        current_length = i - start + 1\n",
    "        \n",
    "        # Update the maximum length and store the substring if it's the longest so far\n",
    "        if current_length > max_length:\n",
    "            max_length = current_length\n",
    "            longest_substr = s[start:i + 1]\n",
    "    \n",
    "    return max_length, longest_substr\n",
    "\n",
    "# Example usage\n",
    "str_input = \"abcbfghijb\"\n",
    "max_length, longest_substr = longest_non_repeat(str_input)\n",
    "print(f\"Max Length: {max_length}\")\n",
    "print(f\"Longest Substring: {longest_substr}\")\n"
   ]
  },
  {
   "cell_type": "markdown",
   "id": "dec33270",
   "metadata": {},
   "source": [
    "## 2. Given a collection of intervals which are already sorted by start number, merge all overlapping intervals.\n",
    "\n",
    "### For example,\n",
    "#### Given [[1,3],[2,6],[5,10],[11,16],[15,18],[19,22]],\n",
    "#### return [[1, 10], [11, 18], [19, 22]]\n"
   ]
  },
  {
   "cell_type": "code",
   "execution_count": 60,
   "id": "5f20f618",
   "metadata": {},
   "outputs": [],
   "source": [
    "def merge_intervals(intervals):\n",
    "    if not intervals:\n",
    "        return []\n",
    "\n",
    "    # Initialize the list to store merged intervals\n",
    "    merged = []\n",
    "    \n",
    "    # Start with the first interval\n",
    "    merged.append(intervals[0])\n",
    "    \n",
    "    # Iterate through the intervals starting from the second one\n",
    "    for i in range(1, len(intervals)):\n",
    "        current_interval = intervals[i]\n",
    "        last_merged = merged[-1]\n",
    "        \n",
    "        # Check if there is an overlap with the last merged interval\n",
    "        if current_interval[0] <= last_merged[1]:\n",
    "            # Merge intervals by updating the end of the last merged interval\n",
    "            merged[-1][1] = max(last_merged[1], current_interval[1])\n",
    "        else:\n",
    "            # No overlap, add the current interval to the list\n",
    "            merged.append(current_interval)\n",
    "    \n",
    "    return merged\n",
    "\n"
   ]
  },
  {
   "cell_type": "code",
   "execution_count": 61,
   "id": "895ea7d5",
   "metadata": {},
   "outputs": [
    {
     "name": "stdout",
     "output_type": "stream",
     "text": [
      "[[1, 10], [11, 18], [19, 22]]\n"
     ]
    }
   ],
   "source": [
    "# Example usage\n",
    "intervals = [[1,3],[2,6],[5,10],[11,16],[15,18],[19,22]]\n",
    "result = merge_intervals(intervals)\n",
    "print(result)\n"
   ]
  },
  {
   "cell_type": "markdown",
   "id": "88e5a440",
   "metadata": {},
   "source": [
    "## 3. Consider an array of non-negative integers.\n",
    "### A second array is formed by shuffling the elements of the first array and deleting a random element. \n",
    "### Given these two arrays, find which element is missing in the second array.\n",
    "### Here is an example input, the first array is shuffled and the number 5 is removed to construct the second array.\n",
    "#### Input:\n",
    "#### finder([1,2,3,4,5,6,7],[3,7,2,1,4,6])\n",
    "### Output:\n",
    "#### 5 is the missing number"
   ]
  },
  {
   "cell_type": "code",
   "execution_count": 98,
   "id": "d162f30f",
   "metadata": {},
   "outputs": [],
   "source": [
    "a = [1,2,3,4,5,6,7]\n",
    "b = [3,7,2,1,4,6]\n",
    "\n",
    "def finder(a,b):\n",
    "    missing = []\n",
    "    \n",
    "    for i in set(a):\n",
    "        if i not in set(b):\n",
    "            missing.append(i)\n",
    "    return missing\n",
    "        "
   ]
  },
  {
   "cell_type": "code",
   "execution_count": 99,
   "id": "2659da6a",
   "metadata": {},
   "outputs": [
    {
     "data": {
      "text/plain": [
       "[5]"
      ]
     },
     "execution_count": 99,
     "metadata": {},
     "output_type": "execute_result"
    }
   ],
   "source": [
    "finder(a,b)"
   ]
  },
  {
   "cell_type": "markdown",
   "id": "5b713e35",
   "metadata": {},
   "source": [
    "## 4.  Rotate an array of n elements to the right by k steps.\n",
    "### For example, with n = 7 and k = 3,\n",
    "### the array [1,2,3,4,5,6,7] is rotated to [5,6,7,1,2,3,4].\n",
    "## Note:\n",
    "### Try to come up as many solutions as you can,\n",
    "### there are at least 3 different ways to solve this problem."
   ]
  },
  {
   "cell_type": "code",
   "execution_count": 100,
   "id": "e7a44471",
   "metadata": {},
   "outputs": [],
   "source": [
    "# Solution 1\n",
    "\n",
    "def rotate_array(arr, k):\n",
    "    n = len(arr)\n",
    "    k = k % n  # Handle cases where k > n\n",
    "    return arr[-k:] + arr[:-k]"
   ]
  },
  {
   "cell_type": "code",
   "execution_count": 102,
   "id": "822146b3",
   "metadata": {},
   "outputs": [
    {
     "data": {
      "text/plain": [
       "[5, 6, 7, 1, 2, 3, 4]"
      ]
     },
     "execution_count": 102,
     "metadata": {},
     "output_type": "execute_result"
    }
   ],
   "source": [
    "rotate_array(a,3)"
   ]
  },
  {
   "cell_type": "code",
   "execution_count": 110,
   "id": "6e8821d0",
   "metadata": {},
   "outputs": [
    {
     "name": "stdout",
     "output_type": "stream",
     "text": [
      "7\n"
     ]
    },
    {
     "data": {
      "text/plain": [
       "0"
      ]
     },
     "execution_count": 110,
     "metadata": {},
     "output_type": "execute_result"
    }
   ],
   "source": [
    "k=3\n",
    "n=len(a)\n",
    "print(n)\n",
    "\n",
    "14 % n"
   ]
  },
  {
   "cell_type": "code",
   "execution_count": 108,
   "id": "0132f71d",
   "metadata": {},
   "outputs": [
    {
     "name": "stdout",
     "output_type": "stream",
     "text": [
      "[5, 6, 7, 1, 2, 3, 4]\n"
     ]
    }
   ],
   "source": [
    "## Solution 2\n",
    "\n",
    "def reverse(arr, start, end):\n",
    "    while start < end:\n",
    "        arr[start], arr[end] = arr[end], arr[start]\n",
    "        start += 1\n",
    "        end -= 1\n",
    "\n",
    "def rotate_array(arr, k):\n",
    "    n = len(arr)\n",
    "    k = k % n  # Handle cases where k > n\n",
    "    \n",
    "    # Step 1: Reverse the entire array\n",
    "    reverse(arr, 0, n-1)\n",
    "    \n",
    "    # Step 2: Reverse the first k elements\n",
    "    reverse(arr, 0, k-1)\n",
    "    \n",
    "#     # Step 3: Reverse the remaining n-k elements\n",
    "    reverse(arr, k, n-1)\n",
    "\n",
    "# Example usage\n",
    "arr = [1, 2, 3, 4, 5, 6, 7]\n",
    "k = 3\n",
    "rotate_array(arr, k)\n",
    "print(arr)\n"
   ]
  },
  {
   "cell_type": "code",
   "execution_count": 111,
   "id": "3fc5b7cc",
   "metadata": {},
   "outputs": [
    {
     "name": "stdout",
     "output_type": "stream",
     "text": [
      "[5, 6, 7, 1, 2, 3, 4]\n"
     ]
    }
   ],
   "source": [
    "## Solution 3\n",
    "\n",
    "def rotate_array(arr, k):\n",
    "    n = len(arr)\n",
    "    k = k % n  # Handle cases where k > n\n",
    "    count = 0  # To count number of swaps\n",
    "\n",
    "    # Rotate in cycles\n",
    "    for start in range(n):\n",
    "        if count >= n:\n",
    "            break\n",
    "\n",
    "        current = start\n",
    "        prev_value = arr[start]\n",
    "        while True:\n",
    "            next_idx = (current + k) % n\n",
    "            arr[next_idx], prev_value = prev_value, arr[next_idx]\n",
    "            current = next_idx\n",
    "            count += 1\n",
    "\n",
    "            # When we complete a full cycle\n",
    "            if start == current:\n",
    "                break\n",
    "\n",
    "# Example usage\n",
    "arr = [1, 2, 3, 4, 5, 6, 7]\n",
    "k = 3\n",
    "rotate_array(arr, k)\n",
    "print(arr)\n"
   ]
  },
  {
   "cell_type": "markdown",
   "id": "957c9e9a",
   "metadata": {},
   "source": [
    "## 5. Given a sorted integer array without duplicates,\n",
    "## return the summary of its ranges.\n",
    "\n",
    "### For example, given [0,1,2,4,5,7], return [\"0->2\",\"4->5\",\"7\"]."
   ]
  },
  {
   "cell_type": "code",
   "execution_count": 115,
   "id": "03090c24",
   "metadata": {},
   "outputs": [
    {
     "name": "stdout",
     "output_type": "stream",
     "text": [
      "['0-->2']\n",
      "['0-->2', '4-->5']\n",
      "['0-->2', '4-->5', '7']\n",
      "['0-->2', '4-->5', '7']\n"
     ]
    }
   ],
   "source": [
    "\"\"\"\n",
    "Given a sorted integer array without duplicates,\n",
    "return the summary of its ranges.\n",
    "For example, given [0,1,2,4,5,7], return [\"0->2\",\"4->5\",\"7\"].\n",
    "\"\"\"\n",
    "\n",
    "input_array = [0,1,2,4,5,7]\n",
    "# input_array = [1,2,3,6,9,11,12,13,14,19,20]\n",
    "\n",
    "start=0\n",
    "result = []\n",
    "\n",
    "# i=0\n",
    "# while i <= len(input_array)-1:\n",
    "#     print(i, input_array[i])\n",
    "#     i = i+1\n",
    "\n",
    "\n",
    "while start < len(input_array):\n",
    "    \n",
    "    # initial end at start position     \n",
    "    end = start\n",
    "\n",
    "    # continue to move the end pointer if the gap is 1 with beside number\n",
    "    # only continue to move if index end+1 is inside array     \n",
    "    while end+1<len(input_array) and ((input_array[end+1] - input_array[end]) == 1):\n",
    "        end = end + 1\n",
    "\n",
    "    # add range to result after calculate     \n",
    "    if end!=start:\n",
    "        result.append(\"{0}-->{1}\".format(input_array[start], input_array[end]))\n",
    "        print(result)\n",
    "    else:\n",
    "        result.append(\"{0}\".format(input_array[start]))\n",
    "        print(result)\n",
    "        \n",
    "    # change to next range\n",
    "    start = end+1\n",
    "\n",
    "print(result)\n",
    "\n",
    "\n",
    "            "
   ]
  },
  {
   "cell_type": "markdown",
   "id": "d7dda3d4",
   "metadata": {},
   "source": [
    "## 6. Given an array of integers, return indices of the two numbers\n",
    "## such that they add up to a specific target.\n",
    "\n",
    "### You may assume that each input would have exactly one solution\n",
    "\n",
    "## Example:\n",
    "###     Given nums = [2, 7, 11, 15], target = 26,\n",
    "###    Because nums[2] + nums[3] = 11 + 15 = 26,\n",
    "###     return [2, 3]."
   ]
  },
  {
   "cell_type": "code",
   "execution_count": 132,
   "id": "a6b665cc",
   "metadata": {},
   "outputs": [],
   "source": [
    "input_array = [2, 7, 11, 15,13,1,13]\n",
    "target = 26\n",
    "result = []\n",
    "\n",
    "def two_sum(input_array,target):\n",
    "\n",
    "    a = []\n",
    "    for i, num in enumerate(input_array):\n",
    "        for j in range(i+1, len(input_array)):\n",
    "            if input_array[i]+input_array[j] == target:\n",
    "                a.append([i,j])\n",
    "            else:\n",
    "                pass\n",
    "    return a\n"
   ]
  },
  {
   "cell_type": "code",
   "execution_count": 133,
   "id": "fb1e128d",
   "metadata": {},
   "outputs": [
    {
     "data": {
      "text/plain": [
       "[[2, 3], [4, 6]]"
      ]
     },
     "execution_count": 133,
     "metadata": {},
     "output_type": "execute_result"
    }
   ],
   "source": [
    "two_sum(input_array,target)"
   ]
  },
  {
   "cell_type": "code",
   "execution_count": null,
   "id": "527d2077",
   "metadata": {},
   "outputs": [],
   "source": []
  }
 ],
 "metadata": {
  "kernelspec": {
   "display_name": "Python 3 (ipykernel)",
   "language": "python",
   "name": "python3"
  },
  "language_info": {
   "codemirror_mode": {
    "name": "ipython",
    "version": 3
   },
   "file_extension": ".py",
   "mimetype": "text/x-python",
   "name": "python",
   "nbconvert_exporter": "python",
   "pygments_lexer": "ipython3",
   "version": "3.10.9"
  }
 },
 "nbformat": 4,
 "nbformat_minor": 5
}
