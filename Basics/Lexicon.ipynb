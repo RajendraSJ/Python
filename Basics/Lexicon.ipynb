{
 "cells": [
  {
   "cell_type": "markdown",
   "id": "26056576",
   "metadata": {},
   "source": [
    "## 1. Variables and Data Types"
   ]
  },
  {
   "cell_type": "code",
   "execution_count": 1,
   "id": "47327604",
   "metadata": {},
   "outputs": [
    {
     "name": "stdout",
     "output_type": "stream",
     "text": [
      "Integer: 10 Type: <class 'int'>\n",
      "Float: 3.14 Type: <class 'float'>\n",
      "String: Alice Type: <class 'str'>\n",
      "Boolean: True Type: <class 'bool'>\n"
     ]
    }
   ],
   "source": [
    "# Defining variables of different data types\n",
    "integer_var = 10               # Integer (int)\n",
    "float_var = 3.14               # Floating-point number (float)\n",
    "string_var = \"Alice\"           # String (str)\n",
    "boolean_var = True             # Boolean (bool)\n",
    "\n",
    "# Printing values and their data types\n",
    "print(\"Integer:\", integer_var, \"Type:\", type(integer_var))\n",
    "print(\"Float:\", float_var, \"Type:\", type(float_var))\n",
    "print(\"String:\", string_var, \"Type:\", type(string_var))\n",
    "print(\"Boolean:\", boolean_var, \"Type:\", type(boolean_var))\n"
   ]
  },
  {
   "cell_type": "markdown",
   "id": "7adaa196",
   "metadata": {},
   "source": [
    "## 2. Basic Arithmetic Operations"
   ]
  },
  {
   "cell_type": "code",
   "execution_count": null,
   "id": "366e095d",
   "metadata": {},
   "outputs": [],
   "source": [
    "# Define two numbers\n",
    "a = 10\n",
    "b = 3\n",
    "\n",
    "# Performing arithmetic operations\n",
    "addition = a + b        # Addition\n",
    "subtraction = a - b     # Subtraction\n",
    "multiplication = a * b  # Multiplication\n",
    "division = a / b        # Division (float result)\n",
    "modulus = a % b         # Modulus (remainder)\n",
    "exponentiation = a ** b # Exponentiation (a raised to the power of b)\n",
    "\n",
    "# Displaying results\n",
    "print(\"Addition:\", addition)\n",
    "print(\"Subtraction:\", subtraction)\n",
    "print(\"Multiplication:\", multiplication)\n",
    "print(\"Division:\", division)\n",
    "print(\"Modulus:\", modulus)\n",
    "print(\"Exponentiation:\", exponentiation)\n"
   ]
  },
  {
   "cell_type": "markdown",
   "id": "a474a992",
   "metadata": {},
   "source": [
    "## 3. Lists (Arrays)"
   ]
  },
  {
   "cell_type": "code",
   "execution_count": 2,
   "id": "7525f593",
   "metadata": {},
   "outputs": [
    {
     "name": "stdout",
     "output_type": "stream",
     "text": [
      "First fruit: apple\n",
      "Last fruit: cherry\n",
      "After adding orange: ['apple', 'banana', 'cherry', 'orange']\n",
      "After removing banana: ['apple', 'cherry', 'orange']\n",
      "apple\n",
      "cherry\n",
      "orange\n"
     ]
    }
   ],
   "source": [
    "# Creating a list of fruits\n",
    "fruits = [\"apple\", \"banana\", \"cherry\"]\n",
    "\n",
    "# Accessing elements in a list\n",
    "print(\"First fruit:\", fruits[0])      # Access by index (0-based)\n",
    "print(\"Last fruit:\", fruits[-1])      # Negative indexing to get the last item\n",
    "\n",
    "# Adding and removing items in a list\n",
    "fruits.append(\"orange\")    # Add to the list\n",
    "print(\"After adding orange:\", fruits)\n",
    "\n",
    "fruits.remove(\"banana\")    # Remove an item\n",
    "print(\"After removing banana:\", fruits)\n",
    "\n",
    "# Looping through a list\n",
    "for fruit in fruits:\n",
    "    print(fruit)\n"
   ]
  },
  {
   "cell_type": "markdown",
   "id": "adde595a",
   "metadata": {},
   "source": [
    "## 4. Loops"
   ]
  },
  {
   "cell_type": "code",
   "execution_count": 3,
   "id": "634f85bf",
   "metadata": {},
   "outputs": [
    {
     "name": "stdout",
     "output_type": "stream",
     "text": [
      "For loop iteration: 0\n",
      "For loop iteration: 1\n",
      "For loop iteration: 2\n",
      "For loop iteration: 3\n",
      "For loop iteration: 4\n"
     ]
    }
   ],
   "source": [
    "# Using a for loop to print numbers from 0 to 4\n",
    "for i in range(5):  # range(5) generates numbers 0 to 4\n",
    "    print(\"For loop iteration:\", i)\n"
   ]
  },
  {
   "cell_type": "code",
   "execution_count": 4,
   "id": "79feae27",
   "metadata": {},
   "outputs": [
    {
     "name": "stdout",
     "output_type": "stream",
     "text": [
      "While loop iteration: 0\n",
      "While loop iteration: 1\n",
      "While loop iteration: 2\n",
      "While loop iteration: 3\n",
      "While loop iteration: 4\n"
     ]
    }
   ],
   "source": [
    "# Using a while loop to print numbers until a condition is met\n",
    "counter = 0\n",
    "while counter < 5:\n",
    "    print(\"While loop iteration:\", counter)\n",
    "    counter += 1\n"
   ]
  },
  {
   "cell_type": "code",
   "execution_count": null,
   "id": "0fd78fde",
   "metadata": {},
   "outputs": [],
   "source": []
  }
 ],
 "metadata": {
  "kernelspec": {
   "display_name": "Python 3 (ipykernel)",
   "language": "python",
   "name": "python3"
  },
  "language_info": {
   "codemirror_mode": {
    "name": "ipython",
    "version": 3
   },
   "file_extension": ".py",
   "mimetype": "text/x-python",
   "name": "python",
   "nbconvert_exporter": "python",
   "pygments_lexer": "ipython3",
   "version": "3.10.9"
  }
 },
 "nbformat": 4,
 "nbformat_minor": 5
}
